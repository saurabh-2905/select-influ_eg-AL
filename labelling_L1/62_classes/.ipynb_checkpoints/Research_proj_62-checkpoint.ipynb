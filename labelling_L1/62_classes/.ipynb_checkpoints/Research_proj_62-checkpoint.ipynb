{
 "cells": [
  {
   "cell_type": "code",
   "execution_count": 2,
   "metadata": {
    "scrolled": true
   },
   "outputs": [],
   "source": [
    "import tensorflow as tf\n",
    "import os\n",
    "import numpy as np\n",
    "from tqdm import tqdm_notebook\n",
    "from sklearn.metrics import precision_recall_fscore_support as score\n",
    "from sklearn.neighbors import NearestNeighbors\n",
    "from sklearn.metrics import confusion_matrix\n",
    "from inspect import signature\n",
    "from PIL import Image\n",
    "from scipy.cluster.vq import kmeans\n",
    "import matplotlib.pyplot as plt\n",
    "from multiprocessing import Pool\n",
    "\n",
    "\n",
    "\n",
    "# folder where all *.npy files are located\n",
    "path_to_data = r'/home/saban/Projects/RP/62_classes/'\n",
    "\n",
    "# create log files in `current dir/`\n",
    "logs = 'logs/' \n",
    "\n",
    "reference_features = np.load(os.path.join(path_to_data, 'training_features_62_classes.npy'))\n",
    "reference_classes = np.load(os.path.join(path_to_data, 'training_classids_62_classes.npy'))\n",
    "reference_probs = np.load(os.path.join(path_to_data, 'training_probabilities_62_classes.npy'))\n",
    "\n",
    "incremental_features = np.load(os.path.join(path_to_data, 'validation_features_62_classes.npy'))\n",
    "incremental_classes = np.load(os.path.join(path_to_data, 'validation_classids_62_classes.npy'))\n",
    "incremental_probs = np.load(os.path.join(path_to_data, 'validation_probabilities_62_classes.npy'))\n",
    "\n",
    "test_features = np.load(os.path.join(path_to_data, 'test_features_62_classes.npy'))\n",
    "test_classes = np.load(os.path.join(path_to_data, 'test_classids_62_classes.npy'))\n",
    "test_probs = np.load(os.path.join(path_to_data, 'test_probabilities_62_classes.npy'))\n",
    "\n",
    "class_mapping = np.load(os.path.join(path_to_data, 'class_mapping_62_classes.npy'), allow_pickle=True).item()\n",
    "unique_classes = np.unique(reference_classes)\n"
   ]
  },
  {
   "cell_type": "code",
   "execution_count": 2,
   "metadata": {},
   "outputs": [
    {
     "name": "stdout",
     "output_type": "stream",
     "text": [
      "{'Ball': 0, 'Balloon': 1, 'Bed': 2, 'Book': 3, 'Bookcase': 4, 'Bottle': 5, 'Bowl': 6, 'Bread': 7, 'Cake': 8, 'Camera': 9, 'Candle': 10, 'Chair': 11, 'Clock': 12, 'Computer keyboard': 13, 'Computer monitor': 14, 'Couch': 15, 'Desk': 16, 'Doll': 17, 'Drawer': 18, 'Flowerpot': 19, 'Footwear': 20, 'Fork': 21, 'Glasses': 22, 'Guitar': 23, 'Hamburger': 24, 'Handbag': 25, 'Headphones': 26, 'Helmet': 27, 'Ice cream': 28, 'Jeans': 29, 'Knife': 30, 'Lamp': 31, 'Laptop': 32, 'Lemon': 33, 'Microphone': 34, 'Mobile phone': 35, 'Mug': 36, 'Musical keyboard': 37, 'Orange': 38, 'Pasta': 39, 'Pen': 40, 'Person': 41, 'Pizza': 42, 'Plant': 43, 'Plate': 44, 'Pumpkin': 45, 'Salad': 46, 'Sculpture': 47, 'Sink': 48, 'Sofa bed': 49, 'Spoon': 50, 'Sushi': 51, 'Table': 52, 'Television': 53, 'Tin can': 54, 'Toilet': 55, 'Tomato': 56, 'Tool': 57, 'Umbrella': 58, 'Vase': 59, 'Window': 60, 'Wine glass': 61}\n",
      "30\n",
      "(17401, 2048)\n"
     ]
    }
   ],
   "source": [
    "print(class_mapping)\n",
    "print(class_mapping['Knife'])\n",
    "print(incremental_features.shape)\n"
   ]
  },
  {
   "cell_type": "code",
   "execution_count": 3,
   "metadata": {},
   "outputs": [],
   "source": [
    "def get_anchor_points(num_points):\n",
    "    anchor_points = []\n",
    "    for cid in tqdm_notebook(unique_classes, desc='calculate anchor points'):\n",
    "        indices = np.where(reference_classes == cid)[0]\n",
    "        class_features = reference_features[indices]\n",
    "        codebook, _ = kmeans(class_features, num_points, iter=20)\n",
    "        anchor_points += [codebook]\n",
    "    return np.array(anchor_points)\n",
    "\n",
    "def soft_distance(x, features, gamma):\n",
    "    diff = x - features          \n",
    "    dist = np.sqrt(np.square(diff)).sum(axis=-1)\n",
    "    return np.exp(-gamma * dist).sum()\n",
    "\n",
    "def calculate_distances(features, anchor, gamma):\n",
    "    labels = np.zeros((features.shape[0],))\n",
    "    for i, feature in enumerate(features): \n",
    "        distances = np.zeros((len(unique_classes),))\n",
    "        for cid in unique_classes:            \n",
    "            n = soft_distance(feature, anchor[cid], gamma)            \n",
    "            ds = EPS\n",
    "            for ccid in unique_classes:                \n",
    "                d = soft_distance(feature, anchor[ccid], gamma)\n",
    "                ds += d\n",
    "            \n",
    "            distances[cid] = n/ds\n",
    "            \n",
    "        labels[i] = distances.argmax()\n",
    "    return labels\n",
    "\n",
    "def get_soft_voting(features, anchor, gamma=5.0):       \n",
    "    labels = []\n",
    "    cpus = cpu_count() - 2 # keep two cpus please\n",
    "    num_chunks = features.shape[0] // (cpus - 1)\n",
    "    \n",
    "    with Pool(processes=cpus) as pool:\n",
    "        results = []\n",
    "\n",
    "        for chunk in range(cpus):\n",
    "            start = chunk * num_chunks\n",
    "            \n",
    "            if chunk == cpus - 1:\n",
    "                sub_features = features[start:]\n",
    "            else:\n",
    "                sub_features = features[start:start + num_chunks]\n",
    "            \n",
    "            results.append(pool.apply_async(calculate_distances, args=(sub_features, anchor, gamma)))\n",
    "        \n",
    "        with tqdm_notebook(total=features.shape[0]) as pbar:        \n",
    "            for result in results:\n",
    "                res = result.get()\n",
    "                labels.extend(res)\n",
    "                pbar.update(len(res))\n",
    "        \n",
    "    return labels\n",
    "\n",
    "def distance(instance1, instance2):\n",
    "    # just in case, if the instances are lists or tuples:\n",
    "    instance1 = np.array(instance1) \n",
    "    instance2 = np.array(instance2)\n",
    "    \n",
    "    return np.linalg.norm(instance1 - instance2)\n",
    "\n",
    "def get_neighbors(test_instance,\n",
    "                  training_set,   \n",
    "                  k, \n",
    "                  distance=soft_distance):\n",
    "    dist_euc = []\n",
    "    for i_anch in range(62):\n",
    "        dist_class = training_set[i_anch,:,:]\n",
    "        anch = []\n",
    "        for anch_point in dist_class:\n",
    "            n_d = distance(test_instance, anch_point, 0.1)\n",
    "\n",
    "            anch.append((n_d,i_anch))\n",
    "        dist_euc.extend(anch)\n",
    "    dist_euc.sort(key=lambda x: x[0])\n",
    "    neighbors = dist_euc[:k]\n",
    "    return neighbors"
   ]
  },
  {
   "cell_type": "markdown",
   "metadata": {},
   "source": [
    "# Finding Anchor points"
   ]
  },
  {
   "cell_type": "code",
   "execution_count": 6,
   "metadata": {},
   "outputs": [
    {
     "name": "stderr",
     "output_type": "stream",
     "text": [
      "/usr/lib/python3.7/site-packages/ipykernel_launcher.py:3: TqdmDeprecationWarning: This function will be removed in tqdm==5.0.0\n",
      "Please use `tqdm.notebook.tqdm` instead of `tqdm.tqdm_notebook`\n",
      "  This is separate from the ipykernel package so we can avoid doing imports until\n"
     ]
    },
    {
     "data": {
      "application/vnd.jupyter.widget-view+json": {
       "model_id": "ffe88e474e52428897f778980e487312",
       "version_major": 2,
       "version_minor": 0
      },
      "text/plain": [
       "HBox(children=(FloatProgress(value=0.0, description='calculate anchor points', max=62.0, style=ProgressStyle(d…"
      ]
     },
     "metadata": {},
     "output_type": "display_data"
    },
    {
     "name": "stdout",
     "output_type": "stream",
     "text": [
      "\n"
     ]
    }
   ],
   "source": [
    "centers = get_anchor_points(1) "
   ]
  },
  {
   "cell_type": "code",
   "execution_count": 10,
   "metadata": {},
   "outputs": [],
   "source": []
  },
  {
   "cell_type": "code",
   "execution_count": 5,
   "metadata": {},
   "outputs": [
    {
     "name": "stdout",
     "output_type": "stream",
     "text": [
      "(10, 2048)\n",
      "(62, 10, 2048)\n",
      "[1.6315533e-04 5.3436524e-01 5.5901613e-02 ... 6.3505718e-03 5.1303129e-03\n",
      " 3.5583582e-02]\n"
     ]
    }
   ],
   "source": [
    "anchors=np.load('anchors.npy')\n",
    "print(anchors[1].shape)\n",
    "print(anchors.shape)\n",
    "print(anchors[1][1])"
   ]
  },
  {
   "cell_type": "code",
   "execution_count": 12,
   "metadata": {},
   "outputs": [
    {
     "data": {
      "image/png": "[encoded data removed]",
      "text/plain": [
       "<Figure size 432x288 with 1 Axes>"
      ]
     },
     "metadata": {
      "needs_background": "light"
     },
     "output_type": "display_data"
    }
   ],
   "source": [
    "%matplotlib inline \n",
    "\n",
    "import matplotlib.pyplot as plt\n",
    "from mpl_toolkits.mplot3d import Axes3D\n",
    "import matplotlib.cm as cm\n",
    "\n",
    "\n",
    "X_3d = []\n",
    "for iclass in range(62):\n",
    "    X_3d.append([[], [], []])\n",
    "    for i in range(len(reference_features)):\n",
    "        if reference_classes[i] == iclass:\n",
    "            X_3d[iclass][0].append(sum(reference_features[i][:700]))\n",
    "            X_3d[iclass][1].append(sum(reference_features[i][701:1400]))\n",
    "            X_3d[iclass][2].append(sum(reference_features[i][2000:]))\n",
    "          \n",
    "\n",
    "\n",
    "\n",
    "fig = plt.figure()\n",
    "ax = fig.add_subplot(111, projection='3d')\n",
    "\n",
    "for iclass in range(3):\n",
    "       ax.scatter(X_3d[iclass][0], X_3d[iclass][1], X_3d[iclass][2], )\n",
    "plt.show()"
   ]
  },
  {
   "cell_type": "code",
   "execution_count": 6,
   "metadata": {},
   "outputs": [
    {
     "name": "stdout",
     "output_type": "stream",
     "text": [
      "[[2.04236011e-27 2.72946403e-29 3.22881121e-35 ... 0.00000000e+00\n",
      "  0.00000000e+00 0.00000000e+00]\n",
      " [4.18101219e-40 2.00217525e-41 0.00000000e+00 ... 0.00000000e+00\n",
      "  0.00000000e+00 0.00000000e+00]\n",
      " [3.27767319e-15 1.41358293e-34 1.15626615e-38 ... 0.00000000e+00\n",
      "  0.00000000e+00 0.00000000e+00]\n",
      " ...\n",
      " [2.73664955e-29 6.67511006e-33 1.37367179e-34 ... 0.00000000e+00\n",
      "  0.00000000e+00 0.00000000e+00]\n",
      " [1.49568873e-32 1.04860077e-34 6.54605928e-36 ... 0.00000000e+00\n",
      "  0.00000000e+00 0.00000000e+00]\n",
      " [7.68466208e-32 6.79102703e-33 9.19945667e-35 ... 0.00000000e+00\n",
      "  0.00000000e+00 0.00000000e+00]]\n"
     ]
    }
   ],
   "source": [
    "n_d = np.zeros(2048)\n",
    "neigh_dist = np.zeros(incremental_features.shape)\n",
    "for samp_i, sample_point in enumerate(incremental_features):\n",
    "    for anch_i, anch_point in enumerate(anchors):\n",
    "        n_d[anch_i] = soft_distance(sample_point, anch_point, 0.1)\n",
    "    neigh_dist[samp_i] = np.array(n_d)\n",
    "print(neigh_dist)"
   ]
  },
  {
   "cell_type": "code",
   "execution_count": 7,
   "metadata": {},
   "outputs": [
    {
     "name": "stdout",
     "output_type": "stream",
     "text": [
      "(17401, 2048)\n",
      "(62, 10, 2048)\n",
      "(10, 2048)\n"
     ]
    }
   ],
   "source": [
    "print(neigh_dist.shape)\n",
    "print(anchors.shape)\n",
    "print(anchors[1,:,:].shape)\n",
    "#print(anchors[0:2,0:2,0:2])\n"
   ]
  },
  {
   "cell_type": "code",
   "execution_count": 104,
   "metadata": {},
   "outputs": [
    {
     "name": "stdout",
     "output_type": "stream",
     "text": [
      "[[9.53899248737843e-42, 1.1761222422740624e-38, 5.557590695034536e-38, 7.541570846047585e-32, 1.814406295089209e-37, 3.7797687295615534e-35, 7.402596328326463e-35, 1.3188217612375105e-33, 2.4151617174681093e-38, 3.362141304147457e-55], [1.2018753781952863e-34, 4.3467878500521084e-38, 6.631389874959279e-33, 4.8108817069318775e-37, 3.861818934186162e-36, 2.511592453179171e-37, 8.236222986501193e-36, 1.266988024384177e-36, 2.525009578925771e-35, 8.998204322254317e-38], [3.847166199608208e-40, 3.288111736936539e-35, 4.5547249943208235e-36, 1.0286592125702636e-36, 3.9066602173692186e-35, 2.055220603818936e-38, 1.232617562697882e-36, 1.3409041289068873e-36, 1.6630732391299437e-37, 1.1702961298782873e-35], [1.8978924085810735e-36, 9.269682778574479e-38, 2.2775603580569253e-36, 5.319443303204821e-37, 9.42445105758333e-36, 4.22642786970727e-35, 2.131514753894441e-36, 2.3129413882450048e-39, 3.525895239721832e-34, 3.2722662293848767e-36], [2.8162701096906707e-39, 4.482958906065033e-34, 6.152720061224417e-35, 2.5896331083580774e-34, 5.003302827691489e-36, 4.7874909445157735e-36, 1.2274701781440037e-33, 3.5841789790299893e-38, 2.396747092860882e-38, 6.573386627452523e-36], [6.217044673995603e-35, 6.515801246814664e-33, 3.9050570174605466e-29, 5.709946306531877e-27, 1.7828496051854304e-34, 2.9351164410350548e-30, 4.213276259417206e-32, 4.4838345694875835e-34, 8.105856015268568e-34, 2.0477933334905434e-34], [6.351164277774433e-33, 2.7938890044428674e-33, 2.8654385181247355e-33, 5.875858318778922e-34, 2.525540687623629e-34, 1.6019101175573974e-33, 1.3747380983380725e-30, 7.430707505856949e-35, 1.191044157283008e-41, 2.554492932434081e-35], [2.2167888077091113e-34, 1.8529435931028516e-36, 1.0315731263650481e-35, 4.24475691218088e-35, 6.585331725586625e-35, 1.5618447568971804e-35, 1.5299954041970383e-45, 5.961895282909876e-37, 6.403090375712792e-35, 1.288645161405413e-34], [5.599349296323918e-37, 1.5733504510178396e-36, 2.6270619229479486e-36, 2.802149648088319e-38, 9.195662788609945e-37, 8.132200460193031e-37, 7.855671878437066e-33, 3.7137739146563956e-37, 1.657247720019641e-39, 1.1863488228116245e-37], [3.446225259441157e-33, 5.762947542797169e-34, 7.47734049952911e-35, 3.7087329705262694e-36, 2.999010382951425e-38, 6.977285941065785e-34, 1.840290698245778e-33, 8.104444063103562e-33, 1.725577841644844e-33, 4.1096263282281824e-32], [1.2051113927563888e-35, 1.1279717246256073e-31, 4.921848273257275e-41, 1.2197513763194376e-32, 5.10724691979954e-34, 9.257211071301383e-48, 3.1180673855421325e-37, 4.0998211166875033e-35, 2.1948377759089082e-35, 4.535206280238413e-33], [2.178734038587333e-34, 4.198361841036566e-32, 3.3310548507735125e-33, 5.663602387527186e-34, 1.135734011555914e-34, 6.433903396628351e-36, 2.3990570851900207e-34, 1.6323733316642683e-32, 1.3038396131245892e-35, 1.7579215531212286e-34], [2.0553617271661735e-44, 2.3019380900550645e-44, 6.886641216194e-35, 2.9731401254893134e-39, 1.953143146067308e-37, 6.288856062217834e-38, 1.737792896877824e-38, 1.1917898228317282e-42, 4.573982220364607e-42, 8.389652879932248e-49], [6.471712710644374e-36, 1.1204767515419371e-36, 9.63120928162567e-37, 1.4776012816167138e-34, 4.099570891101406e-35, 2.260628901817793e-35, 3.2511548028599114e-37, 1.212685121199918e-34, 9.92714397068007e-36, 5.2870896702687014e-36], [1.0079043500494913e-35, 3.245610805522889e-34, 5.202926661575152e-34, 1.3900109416868749e-34, 6.211262205747122e-36, 1.1506765583120758e-35, 8.544211205364506e-34, 3.439617257405844e-34, 7.223484004759183e-35, 6.999617131484349e-35], [1.2505433392596523e-37, 5.324445618797157e-37, 3.3484289114103346e-41, 4.625563252210132e-37, 1.1362785903635126e-35, 4.049015885109754e-35, 1.6107400292351136e-36, 4.8373543200012705e-39, 3.848914971587713e-39, 5.768757147851896e-36], [2.9625847306337422e-34, 4.047423223942475e-36, 2.493582526958688e-35, 5.697513778749898e-36, 7.362521572955664e-38, 8.600880805996584e-36, 3.6238578322197565e-34, 1.2100763840685725e-38, 8.708698911130507e-38, 1.019165821248108e-34], [1.1837837967647088e-34, 2.1181330574451996e-40, 5.043058476155673e-41, 1.544155603606283e-42, 6.831076899003775e-40, 1.4094738009620246e-38, 3.088492156796757e-38, 3.8094787272408794e-42, 1.255207971015063e-37, 2.429692561888496e-45], [1.2868737450301543e-37, 2.389340650304211e-36, 2.990672092567661e-34, 6.788945703540254e-37, 1.0266925433938028e-35, 1.7585994293317043e-38, 5.98836892334204e-35, 1.9187050128681246e-34, 5.664453682518966e-37, 2.0654075090472648e-40], [4.718503973595878e-34, 5.522507611211693e-37, 4.255701992207117e-33, 1.677783531999338e-33, 7.241096812662684e-35, 2.5204801176494416e-31, 4.204261813047102e-34, 1.8054091548984527e-38, 1.4504239896802317e-33, 1.697230053528328e-35], [1.2267742542073923e-35, 3.363489979430307e-36, 9.435501809951966e-36, 8.616753480046688e-38, 7.360368641081584e-40, 1.452883799147275e-36, 1.5612494707849158e-36, 2.2632157417590178e-32, 3.535551349715413e-36, 6.546041180015754e-36], [3.572992270403552e-34, 2.0678503654653482e-32, 1.0433699319907497e-35, 4.941219919841945e-31, 5.088885833142009e-32, 3.4807784272587696e-34, 5.253955999364833e-36, 7.226554325134071e-38, 7.123223308649241e-35, 5.532147714309251e-31], [4.565594937502641e-37, 8.66024730586875e-36, 1.7022975781710599e-34, 9.12223386082577e-36, 6.439439496614262e-34, 1.9134155972744337e-39, 5.0167268706780796e-36, 2.526619945554973e-34, 1.805488590097629e-31, 5.381962442394178e-34], [6.795511375739621e-34, 1.3751178300164647e-36, 1.4432210915185865e-41, 2.1382704423698253e-35, 9.438381736007795e-36, 1.975748593095291e-34, 6.3412160745398844e-37, 5.668563611554567e-33, 6.720426465220542e-37, 1.212504102644177e-35], [2.4784918293833738e-34, 4.08287686211423e-34, 1.456532998600448e-36, 2.730704333641816e-37, 1.0493999547090007e-39, 2.011130280654966e-36, 1.208942285269905e-35, 8.511764130899627e-37, 1.2445349751383195e-35, 1.842949510238852e-34], [2.2772342837472084e-37, 4.04472012110529e-37, 1.0455605089816559e-38, 3.1503284182369514e-36, 2.451209976042653e-35, 2.1697388719170086e-38, 1.0710771219908244e-37, 3.1239797860030855e-34, 8.657657653352086e-36, 3.83068158872288e-39], [4.818623934881345e-36, 7.047789506604927e-40, 3.670775983828571e-37, 1.1338570003742508e-34, 7.085482602397598e-38, 2.9376300261370667e-36, 4.706055053682694e-38, 4.885513791223404e-41, 8.385941257584958e-37, 1.2556642131914404e-38], [5.116518649089661e-38, 8.273498448850787e-32, 3.149442450053458e-34, 1.5146471210189715e-36, 3.2009456838264593e-37, 5.675461483393362e-39, 1.670037976663914e-42, 4.292081630800387e-36, 1.2983924942133615e-37, 4.595052383033304e-42], [8.215005045566476e-33, 8.373327572403817e-34, 3.7938212730101205e-35, 1.3051447160854725e-33, 4.474110408539283e-29, 1.2186965349607208e-38, 2.3992035164827506e-34, 6.5385557769711324e-37, 1.353211375340503e-34, 5.054915151622932e-35], [3.747870603117477e-34, 2.059156411601363e-37, 1.56769488843358e-36, 2.872367521070903e-38, 7.634554395630368e-37, 9.920090209930542e-37, 5.777216604224457e-38, 1.5550875924856096e-38, 4.264182523136072e-37, 7.695470116521318e-39], [7.948191187247248e-41, 8.862760718620533e-40, 1.8752838095202566e-37, 1.6005284494130132e-36, 5.462018962238321e-38, 9.909142213475046e-39, 1.2009746507841038e-38, 1.7269264760753634e-33, 1.67886167616833e-39, 1.6618594184907627e-34], [1.2599319764369876e-36, 9.808914541302305e-36, 1.1115148562896886e-31, 1.9999910258777824e-36, 6.068483374958474e-32, 5.9941999801087234e-34, 1.8457083852962986e-36, 3.5366286815092923e-34, 1.0249292753744292e-32, 4.039734364238966e-35], [2.7325869537293394e-35, 3.4258955374758175e-36, 1.1402803500041997e-35, 7.250206945050383e-35, 7.919040604995125e-41, 3.944612853098007e-35, 1.4319574461080019e-36, 2.1415618166271613e-35, 4.31818830641662e-37, 2.0913398036096656e-35], [1.7584988033613224e-41, 6.025839875427379e-35, 3.123518229457115e-41, 3.0632160943245653e-41, 1.0466661719183005e-42, 1.780034388898259e-36, 8.175443720708501e-35, 1.3109951853354603e-40, 6.282751141891468e-47, 7.852424117312683e-39], [2.303755346074655e-39, 4.622671531709532e-38, 9.546379766400833e-38, 1.91892313870081e-37, 2.2930138380099194e-34, 1.3593754874852396e-37, 2.3142099215106937e-35, 1.53649113976525e-36, 7.497800976746195e-40, 5.9277518283909865e-37], [4.8379719230416225e-37, 7.888155163963432e-35, 1.0311731316429328e-34, 3.4570440867493715e-34, 2.06214297421675e-36, 2.0223686075451704e-36, 1.56728788374711e-35, 5.996049366140626e-35, 2.8882407400550808e-36, 1.9017779234879635e-38], [9.30555624684643e-34, 3.451824871659851e-33, 7.899555814034202e-38, 7.247498865530678e-42, 1.0287751087838573e-35, 1.673560432479106e-35, 1.2728215222054593e-39, 2.1603006241780927e-32, 1.2481946726305765e-37, 9.451933971326407e-38], [3.434908259272247e-35, 3.3663798344101274e-41, 5.240554164753368e-37, 3.848560652982081e-37, 4.0878680412234266e-38, 4.768855392852485e-36, 3.867585282934802e-35, 5.382689258159823e-49, 3.094226504590746e-36, 8.483855651629174e-35], [3.7687756041747733e-42, 2.7062296139575736e-35, 3.442140930089388e-38, 7.062088984805907e-42, 1.264524214129187e-38, 6.539789723643338e-35, 1.758420992617767e-35, 4.058158760209948e-36, 7.1284460473432584e-37, 5.219657235369615e-34], [1.2571694885816431e-33, 2.7829966634730432e-33, 6.522630224484211e-36, 6.140806897642452e-34, 4.35501572195653e-34, 2.2734267925006238e-33, 1.9960510419632083e-34, 3.901143154178148e-34, 9.004213282217575e-35, 2.609840973925441e-35], [5.217288312129177e-37, 1.5831909295343332e-37, 8.163177790116006e-35, 2.712406632305759e-36, 9.387197707967757e-38, 1.8915560430403893e-38, 1.0020403921582344e-35, 5.547626909939962e-38, 2.269862329015907e-31, 1.1121946087503698e-35], [1.2319666558810818e-35, 8.065249025914458e-38, 7.87382485324817e-37, 1.015980214581314e-36, 1.6851633995599194e-35, 5.422284197165007e-32, 8.50864327591533e-35, 2.816954896116587e-35, 3.5361358358883865e-38, 4.6993385567017744e-38], [7.239064075246663e-35, 1.639213254694446e-34, 1.0516968007663134e-32, 8.00421278247577e-35, 5.202069316327463e-34, 2.068804008147266e-33, 3.7249656133265584e-37, 2.732978229414554e-34, 2.646420846718523e-34, 5.76488245076742e-34], [4.8929642365650384e-33, 3.8559033053797295e-32, 2.488937897759552e-36, 1.0465613038189341e-32, 3.7487275681466466e-33, 1.897375552245055e-33, 6.842098109706557e-31, 5.558633865017322e-32, 2.3110957324171567e-32, 4.305106969302667e-35], [5.362470526389843e-35, 7.14390470837257e-35, 6.984365894811187e-38, 2.7575447804059295e-38, 7.854551187817915e-36, 2.0011011522167917e-34, 6.967141886884952e-37, 5.2180035208100136e-36, 3.7083896718168057e-32, 1.1427999372987076e-38], [3.5180177380469166e-35, 4.258756201509008e-34, 8.222866217148905e-38, 6.040478735563541e-36, 8.602197668486586e-38, 8.06037708702105e-38, 1.476577275464326e-44, 1.662323109697941e-39, 2.437811750579615e-35, 8.089504802620038e-38], [3.375654038163671e-35, 1.1242707428675212e-32, 4.546778865946997e-34, 2.0751836088602633e-32, 4.246427224160754e-34, 8.08757120836437e-34, 1.7872612166837353e-32, 3.4678854134439466e-34, 7.96561795983814e-37, 1.0800895006203152e-33], [7.789717219100046e-36, 2.9558672917784777e-36, 4.167092795051222e-36, 5.0871066549295516e-37, 1.5730351839519791e-40, 8.893781442290071e-39, 2.1543654578574245e-38, 4.4365116865973746e-37, 2.5538550635286987e-37, 1.76989333993166e-34], [6.789251307929415e-34, 4.7286258241023284e-36, 1.089262197116328e-34, 9.848933472771095e-38, 5.6606461658250525e-33, 2.2874108517429868e-38, 1.0039560099534606e-33, 1.2731776377396467e-35, 1.9004121127803243e-33, 7.560432200929701e-38], [9.775330848988455e-38, 1.2053547585637472e-37, 3.008350280622268e-37, 2.012652952460038e-36, 6.771098009005599e-42, 5.9152632624287156e-36, 1.1022035404855175e-36, 1.5086365593581761e-37, 8.117373125129712e-37, 1.1758306533137014e-35], [2.1047202922666627e-33, 1.947326906413899e-34, 3.818126361732524e-30, 4.846989008977267e-39, 1.5961182029468286e-34, 8.157269551935587e-32, 1.9958495265620007e-33, 8.302811410819076e-31, 2.3073835981561445e-35, 1.7239193962198695e-32], [1.058717426867214e-34, 3.804536213085399e-37, 5.424838625178122e-36, 1.5707709684866014e-40, 1.803718019489352e-37, 1.1795342676446622e-41, 2.1688396347012376e-40, 2.599968982109618e-37, 2.268602523751285e-44, 3.6779749226909247e-37], [5.647745002764235e-37, 3.00006078961133e-35, 1.3206824954363762e-33, 1.8448904244923438e-33, 7.440939856788143e-34, 5.840570523825388e-36, 2.930052494531116e-32, 6.450375066648647e-34, 4.536607829783645e-36, 2.7012534761458904e-34], [1.9638996074202984e-33, 2.436628520151141e-34, 4.1068743677106694e-38, 9.916001580550484e-36, 1.6140754281381782e-34, 4.19165564762199e-34, 4.66796116703348e-35, 4.282713419720405e-36, 6.781653359607279e-35, 1.6058666464668196e-37], [2.5312434815178973e-35, 6.073232403514464e-36, 1.8606097939076937e-35, 8.725986567068202e-36, 1.1228854721828918e-32, 1.4992221162892242e-34, 1.9403527069229828e-38, 4.154621324283304e-34, 6.278055420054507e-35, 3.0139726218707506e-35], [4.45746547586081e-37, 2.303942250016592e-34, 2.037801611396858e-37, 3.417280140140283e-35, 5.116093177901027e-35, 3.49361453254217e-36, 1.2714148740440499e-35, 3.8807561264659726e-35, 4.220219877161748e-39, 5.45745085747992e-36], [1.700817214645801e-33, 6.770467801490515e-36, 3.033590961527114e-35, 1.7451096077042263e-35, 7.651742999615463e-36, 4.091108717367263e-34, 6.131239648201988e-35, 1.1299711732256684e-35, 3.7148375320213165e-35, 7.919634739928132e-36], [4.75702363391036e-36, 2.7026566205057544e-36, 6.092447004314394e-37, 2.5490132463878057e-39, 5.498591269796748e-35, 1.2345032772018707e-35, 9.300202332121497e-39, 1.4172934429142227e-37, 2.838963350542522e-37, 1.16938605892892e-36], [2.062622877808497e-51, 3.998329753389259e-37, 1.0047690194705198e-36, 1.799373779351275e-35, 6.375402644249197e-35, 4.022033872097563e-36, 6.0325772235455725e-37, 1.193284073610697e-37, 4.704744729965562e-35, 7.675904870193323e-37], [1.402590545139404e-36, 6.650665283306393e-34, 1.0548503295260183e-33, 3.863300244994351e-32, 6.172666490521102e-30, 9.789927071071682e-37, 1.3204003973501457e-33, 6.2229164092521745e-27, 2.0206232615388464e-37, 1.545703222888119e-33], [1.7408436575041896e-35, 1.9414287433404996e-34, 2.5584633738239666e-34, 3.0709326079653474e-34, 8.745283265785588e-34, 1.300635816892274e-33, 3.5956905799661227e-35, 7.882812825767887e-35, 2.441645542182989e-34, 5.798460855557317e-35], [8.230793551340755e-23, 4.507037897321456e-26, 6.4529083842941374e-18, 6.470034184338773e-24, 4.4716988760991906e-21, 3.859352669853935e-20, 4.893373660567862e-14, 6.910430715001694e-23, 4.679884420061342e-22, 8.925637109461149e-22]]\n",
      "(62, 10)\n"
     ]
    }
   ],
   "source": [
    "\n",
    "dist_all = []\n",
    "for sample_point in incremental_features:\n",
    "    dist_euc = []\n",
    "    for i_anch in range(62):\n",
    "        dist_class = anchors[i_anch,:,:]\n",
    "        anch = []\n",
    "        for anch_point in dist_class:\n",
    "            n_d = soft_distance(sample_point, anch_point, 0.1)\n",
    "\n",
    "            anch += [n_d]\n",
    "        dist_euc += [anch]\n",
    "    dist_all += [dist_euc]\n",
    "print (dist_euc)\n",
    "print (np.array(dist_euc).shape)"
   ]
  },
  {
   "cell_type": "code",
   "execution_count": 106,
   "metadata": {},
   "outputs": [
    {
     "name": "stdout",
     "output_type": "stream",
     "text": [
      "(17401, 62, 10)\n"
     ]
    }
   ],
   "source": [
    "print(np.array(dist_all).shape)"
   ]
  },
  {
   "cell_type": "code",
   "execution_count": 107,
   "metadata": {},
   "outputs": [],
   "source": [
    "dist_all = np.array(dist_all)\n"
   ]
  },
  {
   "cell_type": "code",
   "execution_count": null,
   "metadata": {},
   "outputs": [],
   "source": [
    "dist_all = []\n",
    "for sample_point in range(len(incremental_features)):\n",
    "    neighbors = get_neighbors(incremental_features[sample_point], anchors, 9)\n",
    "    dist_all.append(neighbors)\n",
    "print(dist_all)\n",
    "print(np.array(dist_all).shape)"
   ]
  },
  {
   "cell_type": "code",
   "execution_count": null,
   "metadata": {},
   "outputs": [],
   "source": []
  },
  {
   "cell_type": "code",
   "execution_count": null,
   "metadata": {},
   "outputs": [],
   "source": []
  }
 ],
 "metadata": {
  "kernelspec": {
   "display_name": "Python 3",
   "language": "python",
   "name": "python3"
  },
  "language_info": {
   "codemirror_mode": {
    "name": "ipython",
    "version": 3
   },
   "file_extension": ".py",
   "mimetype": "text/x-python",
   "name": "python",
   "nbconvert_exporter": "python",
   "pygments_lexer": "ipython3",
   "version": "3.7.4"
  }
 },
 "nbformat": 4,
 "nbformat_minor": 2
}
